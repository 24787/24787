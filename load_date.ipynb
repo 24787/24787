{
 "cells": [
  {
   "cell_type": "code",
   "execution_count": 25,
   "metadata": {},
   "outputs": [
    {
     "name": "stderr",
     "output_type": "stream",
     "text": [
      "/anaconda3/lib/python3.6/site-packages/h5py/__init__.py:36: FutureWarning: Conversion of the second argument of issubdtype from `float` to `np.floating` is deprecated. In future, it will be treated as `np.float64 == np.dtype(float).type`.\n",
      "  from ._conv import register_converters as _register_converters\n"
     ]
    }
   ],
   "source": [
    "import numpy as np\n",
    "import os\n",
    "import torch\n",
    "import torch.nn as nn\n",
    "import torch.nn.functional as F\n",
    "import torchvision\n",
    "import tensorflow as tf\n",
    "from torchvision import transforms\n",
    "from torchvision.utils import save_image\n"
   ]
  },
  {
   "cell_type": "code",
   "execution_count": 14,
   "metadata": {},
   "outputs": [],
   "source": [
    "dirName = \"txt/\"\n",
    "k = 10\n",
    "d = 5\n",
    "t = 0.2\n",
    "matrix_l = []\n",
    "for i in range(100):\n",
    "    t_f = t*i\n",
    "    t_Str = \"{0:0.1f}\".format(t_f)\n",
    "    filename = dirName + \"mesh_20_10_\" + t_Str + \".txt\"\n",
    "    if i%5==0:\n",
    "        filename = dirName + \"mesh_20_10_\" + str(int(t_f)) + \".txt\"\n",
    "    f = open ( filename , 'r')\n",
    "    row_data = []\n",
    "    row_data = [ line.split() for line in f]\n",
    "\n",
    "    matrix_ind = np.array([])\n",
    "    matrix_ind.resize((21,11))\n",
    "    for i in range(len(row_data)):\n",
    "        col = int(row_data[i][0])\n",
    "        row = int(row_data[i][1])\n",
    "        val = float(row_data[i][2])\n",
    "        matrix_ind[col][row] = val\n",
    "    matrix_l.append(matrix_ind)\n",
    "matrix_arr = np.array(matrix_l)"
   ]
  },
  {
   "cell_type": "code",
   "execution_count": 51,
   "metadata": {},
   "outputs": [
    {
     "data": {
      "text/plain": [
       "(100, 21, 11)"
      ]
     },
     "execution_count": 51,
     "metadata": {},
     "output_type": "execute_result"
    }
   ],
   "source": [
    "matrix_arr.shape"
   ]
  },
  {
   "cell_type": "code",
   "execution_count": 62,
   "metadata": {
    "scrolled": false
   },
   "outputs": [
    {
     "data": {
      "image/png": "[encoded data removed]",
      "text/plain": [
       "<matplotlib.figure.Figure at 0x125e0ae10>"
      ]
     },
     "metadata": {},
     "output_type": "display_data"
    }
   ],
   "source": [
    "## %matplotlib inline \n",
    "from matplotlib import pyplot as plt\n",
    "plt.matshow(matrix_arr[99,:,:])\n",
    "plt.show()"
   ]
  },
  {
   "cell_type": "code",
   "execution_count": 48,
   "metadata": {},
   "outputs": [],
   "source": [
    "tensor_l = []\n",
    "for i in range(14):\n",
    "    matrix_ten = np.copy(matrix_arr[(5*i):(5*i+5),:,:])\n",
    "    ten = torch.from_numpy(matrix_ten)\n",
    "    tensor_l.append(ten)\n"
   ]
  },
  {
   "cell_type": "code",
   "execution_count": 72,
   "metadata": {},
   "outputs": [
    {
     "name": "stderr",
     "output_type": "stream",
     "text": [
      "/anaconda3/lib/python3.6/site-packages/torch/nn/functional.py:1006: UserWarning: nn.functional.sigmoid is deprecated. Use torch.sigmoid instead.\n",
      "  warnings.warn(\"nn.functional.sigmoid is deprecated. Use torch.sigmoid instead.\")\n",
      "/anaconda3/lib/python3.6/site-packages/torch/nn/functional.py:52: UserWarning: size_average and reduce args will be deprecated, please use reduction='sum' instead.\n",
      "  warnings.warn(warning.format(ret))\n"
     ]
    },
    {
     "name": "stdout",
     "output_type": "stream",
     "text": [
      "Epoch[1/15], Step [10/1875], Reconst Loss: 702.7940\n",
      "Epoch[2/15], Step [10/1875], Reconst Loss: 580.1472\n",
      "Epoch[3/15], Step [10/1875], Reconst Loss: 547.9337\n",
      "Epoch[4/15], Step [10/1875], Reconst Loss: 558.2807\n",
      "Epoch[5/15], Step [10/1875], Reconst Loss: 533.1476\n",
      "Epoch[6/15], Step [10/1875], Reconst Loss: 530.1355\n",
      "Epoch[7/15], Step [10/1875], Reconst Loss: 534.1951\n",
      "Epoch[8/15], Step [10/1875], Reconst Loss: 530.5612\n",
      "Epoch[9/15], Step [10/1875], Reconst Loss: 535.0482\n",
      "Epoch[10/15], Step [10/1875], Reconst Loss: 527.3244\n",
      "Epoch[11/15], Step [10/1875], Reconst Loss: 529.5754\n",
      "Epoch[12/15], Step [10/1875], Reconst Loss: 522.0005\n",
      "Epoch[13/15], Step [10/1875], Reconst Loss: 519.8321\n",
      "Epoch[14/15], Step [10/1875], Reconst Loss: 531.1380\n",
      "Epoch[15/15], Step [10/1875], Reconst Loss: 515.9803\n"
     ]
    }
   ],
   "source": [
    "# Device configuration\n",
    "device = torch.device('cuda' if torch.cuda.is_available() else 'cpu')\n",
    "\n",
    "# Create a directory if not exists\n",
    "sample_dir = 'samples'\n",
    "if not os.path.exists(sample_dir):\n",
    "    os.makedirs(sample_dir)\n",
    "\n",
    "# Hyper-parameters\n",
    "image_size = 231\n",
    "h_dim = 100\n",
    "z_dim = 20\n",
    "num_epochs = 15\n",
    "batch_size = 5\n",
    "learning_rate = 2e-3\n",
    "\n",
    "# VAE model\n",
    "class VAE(nn.Module):\n",
    "    def __init__(self, image_size=231, h_dim=100, z_dim=20):\n",
    "        super(VAE, self).__init__()\n",
    "        self.fc1 = nn.Linear(image_size, h_dim)\n",
    "        self.fc2 = nn.Linear(h_dim, z_dim)\n",
    "        self.fc3 = nn.Linear(h_dim, z_dim)\n",
    "        self.fc4 = nn.Linear(z_dim, h_dim)\n",
    "        self.fc5 = nn.Linear(h_dim, image_size)\n",
    "        \n",
    "    def encode(self, x):\n",
    "        h = F.relu(self.fc1(x))\n",
    "        return self.fc2(h), self.fc3(h)\n",
    "    \n",
    "    def reparameterize(self, mu, log_var):\n",
    "        std = torch.exp(log_var/2)\n",
    "        eps = torch.randn_like(std)\n",
    "        return mu + eps * std\n",
    "\n",
    "    def decode(self, z):\n",
    "        h = F.relu(self.fc4(z))\n",
    "        return F.sigmoid(self.fc5(h))\n",
    "    \n",
    "    def forward(self, x):\n",
    "        mu, log_var = self.encode(x)\n",
    "        z = self.reparameterize(mu, log_var)\n",
    "        x_reconst = self.decode(z)\n",
    "        return x_reconst, mu, log_var\n",
    "\n",
    "model = VAE().to(device)\n",
    "optimizer = torch.optim.Adam(model.parameters(), lr=learning_rate)\n",
    "\n",
    "# Start training\n",
    "for epoch in range(num_epochs):\n",
    "    for i in range(14):\n",
    "        # Forward pass\n",
    "        x = tensor_l[i]\n",
    "        x = x.float()\n",
    "        x = x.to(device).view(-1, image_size)\n",
    "\n",
    "        x_reconst, mu, log_var = model(x)\n",
    "        \n",
    "        # Compute reconstruction loss and kl divergence\n",
    "        # For KL divergence, see Appendix B in VAE paper or http://yunjey47.tistory.com/43\n",
    "        reconst_loss = F.binary_cross_entropy(x_reconst, x, size_average=False)\n",
    "        kl_div = - 0.5 * torch.sum(1 + log_var - mu.pow(2) - log_var.exp())\n",
    "        \n",
    "        # Backprop and optimize\n",
    "        loss = reconst_loss + kl_div\n",
    "        optimizer.zero_grad()\n",
    "        loss.backward()\n",
    "        optimizer.step()\n",
    "        \n",
    "        if (i+1) % 10 == 0:\n",
    "            print (\"Epoch[{}/{}], Step [{}/{}], Reconst Loss: {:.4f}\" \n",
    "                   .format(epoch+1, num_epochs, i+1, len(data_loader), reconst_loss.item()))\n",
    "    \n",
    "    with torch.no_grad():\n",
    "        # Save the sampled images\n",
    "        z = torch.randn(batch_size, z_dim).to(device)\n",
    "        out = model.decode(z).view(-1, 1, 21, 11)\n",
    "        save_image(out, os.path.join(sample_dir, 'sampled-{}.png'.format(epoch+1)))\n",
    "\n",
    "        # Save the reconstructed images\n",
    "        out, _, _ = model(x)\n",
    "        x_concat = torch.cat([x.view(-1, 1, 21, 11), out.view(-1, 1, 21, 11)], dim=3)\n",
    "        \n",
    "        x_array = x_concat.numpy()[:, ::-1, :, :]\n",
    "#         save_image(x_concat, os.path.join(sample_dir, 'reconst-{}.png'.format(epoch+1)))"
   ]
  },
  {
   "cell_type": "code",
   "execution_count": 71,
   "metadata": {},
   "outputs": [
    {
     "data": {
      "image/png": "[encoded data removed]",
      "text/plain": [
       "<matplotlib.figure.Figure at 0x13b711f60>"
      ]
     },
     "metadata": {},
     "output_type": "display_data"
    }
   ],
   "source": [
    "## %matplotlib inline \n",
    "from matplotlib import pyplot as plt\n",
    "plt.matshow(x_array[0,:,:,:].reshape(21,22))\n",
    "plt.show()"
   ]
  },
  {
   "cell_type": "code",
   "execution_count": 80,
   "metadata": {},
   "outputs": [],
   "source": [
    "txt = x_array[0,:,:,11:].reshape(21,11)\n",
    "str_txt = \"\"\n",
    "for i in range(21):\n",
    "    for j in range(11):\n",
    "        str_txt = str_txt + str(txt[i,j]) + \" \"\n",
    "    str_txt = str_txt +\"\\n\"   "
   ]
  },
  {
   "cell_type": "code",
   "execution_count": 81,
   "metadata": {},
   "outputs": [],
   "source": [
    "text_file = open(\"Output.txt\", \"w\")\n",
    "text_file.write(str_txt)\n",
    "text_file.close()"
   ]
  }
 ],
 "metadata": {
  "kernelspec": {
   "display_name": "Python 3",
   "language": "python",
   "name": "python3"
  },
  "language_info": {
   "codemirror_mode": {
    "name": "ipython",
    "version": 3
   },
   "file_extension": ".py",
   "mimetype": "text/x-python",
   "name": "python",
   "nbconvert_exporter": "python",
   "pygments_lexer": "ipython3",
   "version": "3.6.4"
  }
 },
 "nbformat": 4,
 "nbformat_minor": 2
}
